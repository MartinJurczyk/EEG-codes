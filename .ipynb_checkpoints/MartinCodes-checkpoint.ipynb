{
 "cells": [
  {
   "cell_type": "code",
   "execution_count": 14,
   "metadata": {},
   "outputs": [],
   "source": [
    "def remove_highers(input_array, boundary_element):\n",
    "    \"\"\"Metoda tworząca listę bez elementów większych niż 'boundary_element'\"\"\"\n",
    "    new_array = []\n",
    "    for array_element in input_array:\n",
    "        if array_element <= boundary_element:\n",
    "            new_array.append(array_element)\n",
    "            #new_array.remove(array_element)\n",
    "    return new_array\n",
    "\n",
    "assert(remove_highers([1, 2, 3, 4, 5], 3) == [1, 2, 3])\n",
    "    "
   ]
  },
  {
   "cell_type": "code",
   "execution_count": 18,
   "metadata": {},
   "outputs": [],
   "source": [
    "def is_sorted_in_descending_order(input_array):\n",
    "    \"\"\"Metoda sprawdza czy lista jest posortowana malejąco\"\"\"\n",
    "    for i in range(len(input_array) - 1):\n",
    "        if input_array[i] < input_array[i + 1]:\n",
    "            return False\n",
    "            #reurn 7\n",
    "    return True\n",
    "\n",
    "assert(is_sorted_in_descending_order([3, 2, 1]) == True)\n",
    "assert(is_sorted_in_descending_order([2, 3, 1]) == False)\n",
    "assert(is_sorted_in_descending_order([1, 2, 3]) == False)"
   ]
  },
  {
   "cell_type": "code",
   "execution_count": null,
   "metadata": {},
   "outputs": [],
   "source": [
    "def remove_highers(input_array, boundary_element):\n",
    "    \"\"\"Metoda s'\"\"\"\n",
    "    new_array = []\n",
    "    for array_element in input_array:\n",
    "        if array_element <= boundary_element:\n",
    "            new_array.append(array_element)\n",
    "            #new_array.remove(array_element)\n",
    "    return new_array\n",
    "\n",
    "assert(remove_highers([1, 2, 3, 4, 5], 3) == [1, 2, 3])"
   ]
  }
 ],
 "metadata": {
  "kernelspec": {
   "display_name": "Python 3",
   "language": "python",
   "name": "python3"
  },
  "language_info": {
   "codemirror_mode": {
    "name": "ipython",
    "version": 3
   },
   "file_extension": ".py",
   "mimetype": "text/x-python",
   "name": "python",
   "nbconvert_exporter": "python",
   "pygments_lexer": "ipython3",
   "version": "3.7.5"
  }
 },
 "nbformat": 4,
 "nbformat_minor": 2
}
