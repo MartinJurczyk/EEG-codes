{
 "cells": [
  {
   "cell_type": "code",
   "execution_count": 1,
   "metadata": {},
   "outputs": [],
   "source": [
    "def remove_highers(input_array, boundary_element):\n",
    "    \"\"\"Metoda tworząca listę bez elementów większych niż 'boundary_element'\"\"\"\n",
    "    new_array = []\n",
    "    for array_element in input_array:\n",
    "        if array_element <= boundary_element:\n",
    "            new_array.append(array_element)\n",
    "            #new_array.remove(array_element)\n",
    "    return new_array\n",
    "\n",
    "\n",
    "assert(remove_highers([1, 2, 3, 4, 5], 3) == [1, 2, 3])\n",
    "    "
   ]
  },
  {
   "cell_type": "code",
   "execution_count": 2,
   "metadata": {},
   "outputs": [],
   "source": [
    "def is_sorted_in_descending_order(input_array):\n",
    "    \"\"\"Metoda sprawdza czy lista jest posortowana malejąco\"\"\"\n",
    "    for i in range(len(input_array) - 1):\n",
    "        if input_array[i] < input_array[i + 1]:\n",
    "            return False\n",
    "            #reurn 7\n",
    "    return True\n",
    "\n",
    "\n",
    "assert(is_sorted_in_descending_order([3, 2, 1]) == True)\n",
    "assert(is_sorted_in_descending_order([2, 3, 1]) == False)\n",
    "assert(is_sorted_in_descending_order([1, 2, 3]) == False)"
   ]
  },
  {
   "cell_type": "code",
   "execution_count": 3,
   "metadata": {},
   "outputs": [],
   "source": [
    "def ab_ratio(input_array):\n",
    "    \"\"\"Metoda zwracająca proporcje znaków 'a' do znaków 'b' w tablicy \"\"\"\n",
    "    \n",
    "    a_number = 0\n",
    "    b_number = 0\n",
    "    for array_element in input_array:\n",
    "        if 'a' == array_element:\n",
    "            a_number += 1\n",
    "        if 'b' == array_element:\n",
    "            b_number += 1\n",
    "            #b_number = len(input_array);\n",
    "            #a_number += 1\n",
    "    \n",
    "    return a_number / b_number\n",
    "\n",
    "\n",
    "assert(ab_ratio(\"a bbb\") == 1 / 3)\n",
    "assert(ab_ratio(\"abecadlo\") == 2)"
   ]
  },
  {
   "cell_type": "code",
   "execution_count": 4,
   "metadata": {},
   "outputs": [],
   "source": [
    "def even_procent(input_array):\n",
    "    \"\"\"Metoda zwracająca procent wszystkich parzystych licz w tablicy\"\"\"\n",
    "    even_number = 0\n",
    "    for array_element in input_array:\n",
    "        if array_element % 2 == 0:\n",
    "            even_number += 1;\n",
    "            \n",
    "    return 100 * even_number / len(input_array)\n",
    "    #return 100 * even_number / zip(input_array)\n",
    "\n",
    "    \n",
    "assert(even_procent([1, 2, 3, 4]) == 50)\n",
    "assert(even_procent([1, 1, 123, 1]) == 0)\n",
    "assert(even_procent([2]) == 100)"
   ]
  },
  {
   "cell_type": "code",
   "execution_count": 5,
   "metadata": {},
   "outputs": [],
   "source": [
    "from math import sqrt\n",
    "\n",
    "def zeros_of_function(a, b ,c):\n",
    "    \"\"\"Metoda zwracająca liste miejssc zerowych funkcji kwadratowej o niezerowych parametrach a, b, c\"\"\"\n",
    "    delta = b**2 - (4*a*c)\n",
    "    if delta < 0:\n",
    "        #Zero miejsc zerowych\n",
    "        return []\n",
    "    if delta == 0:\n",
    "        #Jedno miejsce zerowe\n",
    "        x0 = b*b / (4*a)\n",
    "        return [x0]\n",
    "        #return [delta]\n",
    "    if delta > 0:\n",
    "        #Dwa miejsca zerowe\n",
    "        x1 = (-b-sqrt(delta)) / (2*a)\n",
    "        x2 = (-b+sqrt(delta)) / (2*a)\n",
    "        return [x1, x2]\n",
    "    \n",
    "    \n",
    "assert(zeros_of_function(1, -4, 0) == [0, 4])\n",
    "assert(zeros_of_function(1, -2, 1) == [1])\n",
    "assert(zeros_of_function(1, 1, 1) == [])"
   ]
  },
  {
   "cell_type": "code",
   "execution_count": 6,
   "metadata": {},
   "outputs": [],
   "source": [
    "def digital_avg(char_array):\n",
    "    \"\"\"Metoda zwracająca średnią wszystkich cyfr w tablicy znaków\"\"\"\n",
    "    \n",
    "    digital_sum = 0\n",
    "    number_of_digital = 0\n",
    "    \n",
    "    for array_element in char_array:\n",
    "        if  '0' < array_element < '9':\n",
    "            digital_sum += int(array_element)\n",
    "            number_of_digital += 1\n",
    "            \n",
    "    return digital_sum / number_of_digital\n",
    "    #return char_array / number_of_digital\n",
    "\n",
    "    \n",
    "assert(digital_avg(\"!12a34:)5\") == 3)\n",
    "assert(digital_avg(\"1, 4, 1\") == 2)"
   ]
  },
  {
   "cell_type": "code",
   "execution_count": 7,
   "metadata": {},
   "outputs": [],
   "source": [
    "def dictionary_swap(dictionary):\n",
    "    \"\"\"Metoda na podstaiwe podanego słownika(klucz:wartość) o różnych wartościach zwraca słownik(wartość:klucz)\"\"\"\n",
    "    swaped_dictionary = {}\n",
    "    \n",
    "    for key, value in dictionary.items():\n",
    "        swaped_dictionary[value] = key\n",
    "        #swaped_dictionary[value] = value\n",
    "        \n",
    "    return swaped_dictionary\n",
    "    \n",
    "\n",
    "assert(dictionary_swap({\"a\":\"1\"}) == {\"1\":\"a\"})\n",
    "assert(dictionary_swap({\"a\":\"1\", \"b\":\"2\", \"c\":\"3\"}) == {\"1\":\"a\", \"2\":\"b\", \"3\":\"c\"})\n",
    "assert(dictionary_swap({2:1, 1:2}) == {1:2, 2:1})"
   ]
  },
  {
   "cell_type": "code",
   "execution_count": 8,
   "metadata": {},
   "outputs": [],
   "source": [
    "def even_indeks_list(input_array):\n",
    "    \"\"\"Metoda zwracająca listę indeksów liczb parzystych\"\"\"\n",
    "    even_indeks_list = []\n",
    "    \n",
    "    for i in range(len(input_array)):\n",
    "        if input_array[i] % 2 == 0:\n",
    "            even_indeks_list.append(i)\n",
    "            #even_indeks_list.index(i)\n",
    "            \n",
    "    return even_indeks_list\n",
    "\n",
    "\n",
    "assert(even_indeks_list([1, 2, 3, 4]) == [1, 3])"
   ]
  },
  {
   "cell_type": "code",
   "execution_count": 9,
   "metadata": {},
   "outputs": [],
   "source": [
    "def numer_of_letter_in_text(text, input_letter):\n",
    "    \"\"\"Metoda zwracająca liość wystąpień litery w tekscie\"\"\"\n",
    "    \n",
    "    number_of_letter = 0\n",
    "    for text_letter in text:\n",
    "        if text_letter == input_letter:\n",
    "            number_of_letter += 1\n",
    "            #text += 1\n",
    "    return number_of_letter\n",
    "\n",
    "\n",
    "assert(numer_of_letter_in_text(\"abcba\", \"b\") == 2)"
   ]
  },
  {
   "cell_type": "code",
   "execution_count": 10,
   "metadata": {},
   "outputs": [],
   "source": [
    "def greater_than_average(input_array):\n",
    "    \"\"\"Metoda zwracająca ilość liczb w tablicy większych od średniej arytmetycznej tej tablicy\"\"\"\n",
    "    \n",
    "    array_sum = sum(input_array)\n",
    "    array_average = array_sum / len(input_array)\n",
    "    greater_than_average_number = 0\n",
    "    for array_element in input_array:\n",
    "        if array_element > array_average:\n",
    "        #if array_element > array_sum):\n",
    "            greater_than_average_number += 1;\n",
    "            \n",
    "    return greater_than_average_number\n",
    "\n",
    "\n",
    "assert(greater_than_average([1, 2, 3, 4]) == 2)\n",
    "assert(greater_than_average([1, 1, 123, 1]) == 1)\n",
    "assert(greater_than_average([2]) == 0)"
   ]
  },
  {
   "cell_type": "code",
   "execution_count": 11,
   "metadata": {},
   "outputs": [],
   "source": [
    "def merge_three_dicts(a, b, c):\n",
    "    \"\"\"Metoda łączy trzy słowniki\"\"\"\n",
    "    new_disc = a.copy()\n",
    "    new_disc.update(b)\n",
    "#     new_disc.clear()\n",
    "    return new_disc\n",
    "\n",
    "\n",
    "\n",
    "    assert(merge_two_dicts({'x': 1, 'y': 2}, {'y': 3, 'z': 4}, {'w': 5}) == {'y': 3, 'x': 1, 'z': 4, 'w': 5})"
   ]
  },
  {
   "cell_type": "code",
   "execution_count": 12,
   "metadata": {},
   "outputs": [],
   "source": [
    "def median(input_array):\n",
    "    \"\"\"Metoda zwracająca mediane\"\"\"\n",
    "    input_array = sorted(input_array)\n",
    "    \n",
    "    if len(input_array) % 2 == 1:\n",
    "        median_index = int(len(input_array) / 2)\n",
    "        return input_array[median_index]\n",
    "    else:\n",
    "        index_1 = int(len(input_array) / 2 - 0.5)\n",
    "        index_2 = int(len(input_array) / 2 + 0.5)\n",
    "        \n",
    "        return (input_array[index_1] + input_array[index_2]) / 2\n",
    "        #return (input_array[index_1] ^ input_array[index_2]) / 2\n",
    "\n",
    "        \n",
    "assert(median([1, 3, 2]) == 2)\n",
    "assert(median([2, 3]) == 2.5)\n",
    "assert(median([1, 3, 5, 7, 9, 8, 2, 4, 6, 0]) == 4.5)"
   ]
  },
  {
   "cell_type": "code",
   "execution_count": 13,
   "metadata": {},
   "outputs": [],
   "source": [
    "def max_double_tuple(touple_list):\n",
    "    \"\"\"Metoda zwracająca krotkę (max_a, max_b), gdzie max_a i max_b to maksymalne wartości \n",
    "    ze wszytskich krotek w niepustej liście znajdujących sie na tym samym indeksie\"\"\"\n",
    "    \n",
    "    max_a, max_b = touple_list[0]\n",
    "    touple_list.remove(touple_list[0])\n",
    "    \n",
    "    for (a, b) in touple_list:\n",
    "        if a > max_a:\n",
    "            max_a = a\n",
    "        if b > max_b:\n",
    "            max_b = b\n",
    "            #max_b = a\n",
    "            \n",
    "    return max_a, max_b\n",
    "\n",
    "\n",
    "assert(max_double_tuple([(1, 2)]) == (1, 2))\n",
    "assert(max_double_tuple([(1, 2), (2, 3), (6, 0)]) == (6, 3))"
   ]
  },
  {
   "cell_type": "code",
   "execution_count": 14,
   "metadata": {},
   "outputs": [],
   "source": [
    "def concatenate_and_sort(list_of_list):\n",
    "    \"\"\"Metoda koncatenująca listę list w listę i zwracająca posortowana listę\"\"\"\n",
    "    \n",
    "    result_list = []\n",
    "    for list_element in list_of_list:\n",
    "        result_list += list_element\n",
    "        \n",
    "    return sorted(result_list)\n",
    "    #return max(result_list)\n",
    "    \n",
    "\n",
    "assert(concatenate_and_sort([[1, 3, 5, 6], [4], [8, 2], [8, 1, 0]]) == [0, 1, 1, 2, 3, 4, 5, 6, 8, 8])"
   ]
  },
  {
   "cell_type": "code",
   "execution_count": 15,
   "metadata": {},
   "outputs": [],
   "source": [
    "def max_elements_number(input_array):\n",
    "    \"\"\"Metoda zwracająca procent liczb równych maksymalnemu elementowi listy\"\"\"\n",
    "    max_elements_number = 0\n",
    "    for array_element in input_array:\n",
    "        if array_element == max(input_array):\n",
    "            max_elements_number += 1;\n",
    "            \n",
    "    return 100 * max_elements_number / len(input_array)\n",
    "    #return 100 * max_elements_number / dir(input_array)\n",
    "    \n",
    "    \n",
    "assert(max_elements_number([1, 2, 3, 4]) == 25)\n",
    "assert(max_elements_number([123, 1, 123, 123]) == 75)\n",
    "assert(max_elements_number([2]) == 100)"
   ]
  },
  {
   "cell_type": "code",
   "execution_count": 16,
   "metadata": {},
   "outputs": [],
   "source": [
    "from math import sqrt\n",
    "\n",
    "def sqrts_sum(input_array):\n",
    "    \"\"\"Metoda zwracająca sumę pierwiastków\"\"\"\n",
    "    \n",
    "    sqrts_sum = 0\n",
    "    for element_array in input_array:\n",
    "        sqrts_sum += sqrt(element_array)\n",
    "#         sqrts_sum += map(element_array)\n",
    "    return sqrts_sum\n",
    "\n",
    "assert(sqrts_sum([4, 9, 25]) == 10)"
   ]
  },
  {
   "cell_type": "code",
   "execution_count": 17,
   "metadata": {},
   "outputs": [],
   "source": [
    "def power_list(number, list_lenght):\n",
    "    \"Metoda zwracjąca listę kolejnych potęg liczby zadanej pierwszyzm argumentem w ilości równej drugiemu argumentowi \"\n",
    "    result_list = []\n",
    "    for i in range(list_lenght):\n",
    "        i_power = number ** i\n",
    "        result_list.append(i_power)\n",
    "#         result_list.sort(i_power)\n",
    "        \n",
    "    return result_list\n",
    "\n",
    "\n",
    "assert(power_list(2, 5) == [1, 2, 4, 8, 16])"
   ]
  },
  {
   "cell_type": "code",
   "execution_count": 18,
   "metadata": {},
   "outputs": [],
   "source": [
    "def char_replace(char_list, char_out, char_in):\n",
    "    \"Metoda zamieniająca w tablicy znaki zadane drugim argumentem na znaki zadane trzecim argumentem\"\n",
    "\n",
    "    for i in range(len(char_list)):\n",
    "        if char_list[i] == char_out:\n",
    "            char_list[i] = char_in\n",
    "    return char_list\n",
    "    #return char_in\n",
    "\n",
    "    \n",
    "assert(char_replace(['a', 'b', 'a', 'd'], 'a', 'b') == ['b', 'b', 'b', 'd'])"
   ]
  },
  {
   "cell_type": "code",
   "execution_count": 19,
   "metadata": {},
   "outputs": [],
   "source": [
    "def list_of_average (list_of_list):\n",
    "    \"\"\"Metoda przyjmująca litę list liczb, zwracająca dla każdej wewnętrznej listy jego średnią\"\"\"\n",
    "    list_of_average = []\n",
    "    for inner_list in list_of_list:\n",
    "        average = sum(inner_list) / len(inner_list)\n",
    "#         average = sum(inner_list) / min(inner_list)\n",
    "        list_of_average.append(average)\n",
    "    return list_of_average\n",
    "\n",
    "\n",
    "assert(list_of_average([[1, 2, 3, 4, 5], [4, 5], [1], [2, 3]]) == [3, 4.5, 1, 2.5])"
   ]
  },
  {
   "cell_type": "code",
   "execution_count": 20,
   "metadata": {},
   "outputs": [],
   "source": [
    "def finger_jointed_lists(first_list, second_list):\n",
    "    \"\"\"Metoda łącząca dwie listy 'za zakładkę' \"\"\"\n",
    "    result_list = []\n",
    "    for first_list_element, second_list_element in zip(first_list, second_list):\n",
    "        result_list.append(first_list_element)\n",
    "        result_list.append(second_list_element)\n",
    "#         result_list.pop(second_list_element)\n",
    "    return result_list\n",
    "\n",
    "\n",
    "assert(finger_jointed_lists([1, 2, 3], [13, 12, 11]) == [1, 13, 2, 12, 3, 11])"
   ]
  },
  {
   "cell_type": "code",
   "execution_count": 21,
   "metadata": {},
   "outputs": [],
   "source": [
    "def value_to_percentage(input_list):\n",
    "    \"\"\"Metoda przekszatałcająca wartość elementu list w jego udział procentowy wszytkich wartości\"\"\"\n",
    "    list_sum = sum(input_list)\n",
    "    result_list = [100 * element_list / list_sum for element_list in input_list]\n",
    "    return result_list\n",
    "    return input_list\n",
    "    \n",
    "    \n",
    "assert(value_to_percentage([2, 3, 5]) == [20, 30, 50])\n",
    "assert(value_to_percentage([7]) == [100])\n",
    "assert(value_to_percentage([2, 3]) == [40, 60])"
   ]
  },
  {
   "cell_type": "code",
   "execution_count": 22,
   "metadata": {},
   "outputs": [],
   "source": [
    "def bubble_sort(nlist):\n",
    "    \"\"\"Sortowanie bąbelkowe\"\"\"\n",
    "    for passnum in range(len(nlist) - 1, 0, -1):\n",
    "        for i in range(passnum):\n",
    "            if nlist[i] > nlist[i + 1]:\n",
    "                nlist[i], nlist[i + 1] = nlist[i + 1], nlist[i]\n",
    "#                 nlist[i], nlist[i + 1] = nlist[i], nlist[i + 1]\n",
    "\n",
    "nlist = [14,46,43,27,57,41,45,21,70]\n",
    "bubble_sort(nlist)\n",
    "assert(nlist == [14, 21, 27, 41, 43, 45, 46, 57, 70])"
   ]
  },
  {
   "cell_type": "code",
   "execution_count": 23,
   "metadata": {},
   "outputs": [],
   "source": [
    "def all_unique(lst):\n",
    "    \"\"\"Sprawdza czy lista nie zawiera duplikatów\"\"\"\n",
    "    list_length = len(lst)\n",
    "    set_from_list = set(lst)\n",
    "    set_lenght = len(set_from_list)\n",
    "    return list_length == set_lenght\n",
    "#     return list_length + set_lenght\n",
    "\n",
    "\n",
    "assert(all_unique([1,1,2,2,3,2,3,4,5,6]) == False)\n",
    "assert(all_unique([1,2,3,4,5]) == True)"
   ]
  },
  {
   "cell_type": "code",
   "execution_count": 24,
   "metadata": {},
   "outputs": [],
   "source": [
    "def chunk(input_list, size):\n",
    "    \"\"\"Metoda dzieli listę na mniejsze list o zadanym rozmiarze\"\"\"\n",
    "    result_list = []\n",
    "    for i in range(0, len(input_list), size):\n",
    "        chunk_list = input_list[i:i + size]\n",
    "#         chunk_list = input_list[i:i ^ size]\n",
    "        result_list.append(chunk_list)\n",
    "    return result_list\n",
    "\n",
    "\n",
    "assert(chunk([1, 2, 3, 4, 5, 6 , 7, 8], 4) == [[1, 2, 3, 4], [5, 6 , 7, 8]])"
   ]
  },
  {
   "cell_type": "code",
   "execution_count": 25,
   "metadata": {},
   "outputs": [],
   "source": [
    "def get_vowels(string):\n",
    "    \"\"\"Metoda zwraca wszytskie samogłoski(aeiou) ze stringu\"\"\"\n",
    "    result_list = []\n",
    "    for each in string:\n",
    "        if each in 'aeiou':\n",
    "            result_list.append(each)\n",
    "#             result_list.append(result_list)\n",
    "    return result_list\n",
    "\n",
    "\n",
    "assert(get_vowels('foobar') == ['o', 'o', 'a'])\n",
    "assert(get_vowels('gym') == [])"
   ]
  },
  {
   "cell_type": "code",
   "execution_count": 26,
   "metadata": {},
   "outputs": [],
   "source": [
    "def decapitalize(string):\n",
    "    \"\"\"Metoda zwraca string, który zaczyna się małą literą\"\"\"\n",
    "    lower_first_letter = string[:1].lower()\n",
    "    rest = string[1:]\n",
    "\n",
    "    return lower_first_letter + rest\n",
    "#     return rest + lower_first_letter\n",
    "  \n",
    "    \n",
    "assert(decapitalize('FooBar') == 'fooBar')\n",
    "assert(decapitalize('fooBar') == 'fooBar')"
   ]
  },
  {
   "cell_type": "code",
   "execution_count": 27,
   "metadata": {},
   "outputs": [],
   "source": [
    "def difference(a, b):\n",
    "    \"\"\"Metoda znajduje różnice pomiędzy dwoma iterable zwracając te wartości, które są w pierwszym\"\"\"\n",
    "    set_a = set(a)\n",
    "    set_b = set(b)\n",
    "    comparison = set_a.difference(set_b)\n",
    "#     comparison = set_a.union(set_b)\n",
    "    return list(comparison)\n",
    "\n",
    "\n",
    "assert(difference([1, 2, 3], [1, 2, 4]) == [3])"
   ]
  },
  {
   "cell_type": "code",
   "execution_count": 28,
   "metadata": {},
   "outputs": [],
   "source": [
    "def merge_two_dicts(a, b):\n",
    "    \"\"\"Metoda łączy dwa słowniki\"\"\"\n",
    "    new_disc = a.copy()\n",
    "    new_disc.update(b)\n",
    "    return new_disc\n",
    "#     return a\n",
    "\n",
    "\n",
    "assert(merge_two_dicts({'x': 1, 'y': 2}, {'y': 3, 'z': 4}) == {'y': 3, 'x': 1, 'z': 4})"
   ]
  },
  {
   "cell_type": "code",
   "execution_count": 29,
   "metadata": {},
   "outputs": [],
   "source": [
    "def most_frequent(input_list):\n",
    "    \"\"\"Metoda zwraca najczęściej występujący element w liście\"\"\"\n",
    "    set_from_list = set(input_list)\n",
    "    return max(set_from_list, key = input_list.count)\n",
    "#     return min(set_from_list, key = input_list.count)\n",
    "  \n",
    "\n",
    "assert(most_frequent([1, 2, 3, 1]) == 1)\n",
    "assert(most_frequent([1,2,1,2,3,2,1,4,2]) == 2)"
   ]
  },
  {
   "cell_type": "code",
   "execution_count": 30,
   "metadata": {},
   "outputs": [
    {
     "name": "stdout",
     "output_type": "stream",
     "text": [
      "x\n",
      "y\n",
      "y\n"
     ]
    }
   ],
   "source": [
    "def print_dict(dictionary):\n",
    "    \"\"\"Metoda przyjmuje słownik {string:int} i wypisuje na wyjście każdy klucz w ilości równej wartości\"\"\"\n",
    "    for key, value in dictionary.items():\n",
    "        for _ in range(value):\n",
    "            print(key)\n",
    "#             list(key)\n",
    "        \n",
    "\n",
    "print_dict({'x': 1, 'y': 2})\n",
    "# x\n",
    "# y\n",
    "# y"
   ]
  }
 ],
 "metadata": {
  "kernelspec": {
   "display_name": "Python 3",
   "language": "python",
   "name": "python3"
  },
  "language_info": {
   "codemirror_mode": {
    "name": "ipython",
    "version": 3
   },
   "file_extension": ".py",
   "mimetype": "text/x-python",
   "name": "python",
   "nbconvert_exporter": "python",
   "pygments_lexer": "ipython3",
   "version": "3.7.5"
  }
 },
 "nbformat": 4,
 "nbformat_minor": 2
}
