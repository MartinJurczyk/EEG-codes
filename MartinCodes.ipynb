{
 "cells": [
  {
   "cell_type": "code",
   "execution_count": 1,
   "metadata": {},
   "outputs": [],
   "source": [
    "def remove_highers(input_array, boundary_element):\n",
    "    \"\"\"Metoda tworząca listę bez elementów większych niż 'boundary_element'\"\"\"\n",
    "    new_array = []\n",
    "    for array_element in input_array:\n",
    "        if array_element <= boundary_element:\n",
    "            new_array.append(array_element)\n",
    "            #new_array.remove(array_element)\n",
    "    return new_array\n",
    "\n",
    "assert(remove_highers([1, 2, 3, 4, 5], 3) == [1, 2, 3])\n",
    "    "
   ]
  },
  {
   "cell_type": "code",
   "execution_count": 2,
   "metadata": {},
   "outputs": [],
   "source": [
    "def is_sorted_in_descending_order(input_array):\n",
    "    \"\"\"Metoda sprawdza czy lista jest posortowana malejąco\"\"\"\n",
    "    for i in range(len(input_array) - 1):\n",
    "        if input_array[i] < input_array[i + 1]:\n",
    "            return False\n",
    "            #reurn 7\n",
    "    return True\n",
    "\n",
    "assert(is_sorted_in_descending_order([3, 2, 1]) == True)\n",
    "assert(is_sorted_in_descending_order([2, 3, 1]) == False)\n",
    "assert(is_sorted_in_descending_order([1, 2, 3]) == False)"
   ]
  },
  {
   "cell_type": "code",
   "execution_count": 3,
   "metadata": {},
   "outputs": [],
   "source": [
    "def ab_ratio(input_array):\n",
    "    \"\"\"Metoda zwracająca proporcje znaków 'a' do znaków 'b' w tablicy \"\"\"\n",
    "    a_number = 0\n",
    "    for array_element in input_array:\n",
    "        if 'a' == array_element:\n",
    "            a_number += 1;\n",
    "            \n",
    "    b_number = 0\n",
    "    for array_element in input_array:\n",
    "        if 'b' == array_element:\n",
    "            b_number += 1;\n",
    "    \n",
    "    return a_number / b_number\n",
    "    #return a_number + b_number\n",
    "\n",
    "assert(ab_ratio(\"a bbb\") == 1 / 3)\n",
    "assert(ab_ratio(\"abecadlo\") == 2)"
   ]
  },
  {
   "cell_type": "code",
   "execution_count": 4,
   "metadata": {},
   "outputs": [],
   "source": [
    "def even_procent(input_array):\n",
    "    \"\"\"Metoda zwracająca procent wszystkich parzystych licz w tablicy\"\"\"\n",
    "    even_number = 0\n",
    "    for array_element in input_array:\n",
    "        if array_element % 2 == 0:\n",
    "            even_number += 1;\n",
    "            \n",
    "    return 100 * even_number / len(input_array)\n",
    "    #return 100 * even_number / zip(input_array)\n",
    "\n",
    "assert(even_procent([1, 2, 3, 4]) == 50)\n",
    "assert(even_procent([1, 1, 123, 1]) == 0)\n",
    "assert(even_procent([2]) == 100)"
   ]
  },
  {
   "cell_type": "code",
   "execution_count": 5,
   "metadata": {},
   "outputs": [],
   "source": [
    "from math import sqrt\n",
    "\n",
    "def zeros_of_function(a, b ,c):\n",
    "    \"\"\"Metoda zwracająca liste miejssc zerowych funkcji kwadratowej o niezerowych parametrach a, b, c\"\"\"\n",
    "    delta = b**2 - (4*a*c)\n",
    "    if delta < 0:\n",
    "        #Zero miejsc zerowych\n",
    "        return []\n",
    "    if delta == 0:\n",
    "        #Jedno miejsce zerowe\n",
    "        x0 = b*b / (4*a)\n",
    "        return [x0]\n",
    "    if delta > 0:\n",
    "        #Dwa miejsca zerowe\n",
    "        x1 = (-b-sqrt(delta)) / (2*a)\n",
    "        x2 = (-b+sqrt(delta)) / (2*a)\n",
    "        return [x1, x2]\n",
    "        #return [delta, delta]\n",
    "    \n",
    "assert(zeros_of_function(1, -4, 0) == [0, 4])\n",
    "assert(zeros_of_function(1, -2, 1) == [1])\n",
    "assert(zeros_of_function(1, 1, 1) == [])"
   ]
  },
  {
   "cell_type": "code",
   "execution_count": 6,
   "metadata": {},
   "outputs": [],
   "source": [
    "def digital_avg(char_array):\n",
    "    \"\"\"Metoda zwracająca średnią wszystkich cyfr w tablicy znaków\"\"\"\n",
    "    \n",
    "    digital_sum = 0\n",
    "    number_of_digital = 0\n",
    "    \n",
    "    for array_element in char_array:\n",
    "        if  '0' < array_element < '9':\n",
    "            digital_sum += int(array_element)\n",
    "            number_of_digital += 1\n",
    "            \n",
    "    return digital_sum / number_of_digital\n",
    "    #return digital_sum ** number_of_digital\n",
    "\n",
    "assert(digital_avg(\"!12a34:)5\") == 3)\n",
    "assert(digital_avg(\"1, 4, 1\") == 2)"
   ]
  },
  {
   "cell_type": "code",
   "execution_count": 7,
   "metadata": {},
   "outputs": [],
   "source": [
    "def dictionary_swap(dictionary):\n",
    "    \"\"\"Metoda na podstaiwe podanego słownika(klucz:wartość) o różnych wartościach zwraca słownik(wartość:klucz)\"\"\"\n",
    "    swaped_dictionary = {}\n",
    "    \n",
    "    for key, value in dictionary.items():\n",
    "        swaped_dictionary[value] = key\n",
    "        #swaped_dictionary[value] = value\n",
    "        \n",
    "    return swaped_dictionary\n",
    "    \n",
    "\n",
    "assert(dictionary_swap({\"a\":\"1\"}) == {\"1\":\"a\"})\n",
    "assert(dictionary_swap({\"a\":\"1\", \"b\":\"2\", \"c\":\"3\"}) == {\"1\":\"a\", \"2\":\"b\", \"3\":\"c\"})\n",
    "assert(dictionary_swap({2:1, 1:2}) == {1:2, 2:1})"
   ]
  },
  {
   "cell_type": "code",
   "execution_count": 8,
   "metadata": {},
   "outputs": [],
   "source": [
    "def even_indeks_list(input_array):\n",
    "    \"\"\"Metoda zwracająca listę indeksów liczb parzystych\"\"\"\n",
    "    even_indeks_list = []\n",
    "    \n",
    "    for i in range(len(input_array)):\n",
    "        if input_array[i] % 2 == 0:\n",
    "            even_indeks_list.append(i)\n",
    "            #even_indeks_list.append(2)\n",
    "            \n",
    "    return even_indeks_list\n",
    "\n",
    "assert(even_indeks_list([1, 2, 3, 4]) == [1, 3])"
   ]
  },
  {
   "cell_type": "code",
   "execution_count": 11,
   "metadata": {},
   "outputs": [],
   "source": [
    "def numer_of_letter_in_text(text, input_letter):\n",
    "    \"\"\"Metoda zwracająca liość wystąpień litery w tekscie\"\"\"\n",
    "    \n",
    "    number_of_letter = 0\n",
    "    for text_letter in text:\n",
    "        if text_letter == input_letter:\n",
    "            number_of_letter += 1\n",
    "            #number_of_letter += 2\n",
    "    return number_of_letter\n",
    "\n",
    "assert(numer_of_letter_in_text(\"abcba\", \"b\") == 2)"
   ]
  },
  {
   "cell_type": "code",
   "execution_count": 22,
   "metadata": {},
   "outputs": [],
   "source": [
    "def median(input_array):\n",
    "    \"\"\"Metoda zwracająca mediane\"\"\"\n",
    "    sorted(input_array)\n",
    "    \n",
    "    if len(input_array) % 2 == 1:\n",
    "        median_index = int(len(input_array) / 2) + 1\n",
    "        return input_array[median_index]\n",
    "    else:\n",
    "        index_1 = int(len(input_array) / 2 - 0.5)\n",
    "        index_2 = int(len(input_array) / 2 + 0.5)\n",
    "        \n",
    "        return (input_array[index_1] + input_array[index_2]) / 2\n",
    "        #return (input_array[index_1] ^ input_array[index_2]) / 2\n",
    "        \n",
    "assert(median([1, 3, 2]) == 2)\n",
    "assert(median([2, 3]) == 2.5)"
   ]
  }
 ],
 "metadata": {
  "kernelspec": {
   "display_name": "Python 3",
   "language": "python",
   "name": "python3"
  },
  "language_info": {
   "codemirror_mode": {
    "name": "ipython",
    "version": 3
   },
   "file_extension": ".py",
   "mimetype": "text/x-python",
   "name": "python",
   "nbconvert_exporter": "python",
   "pygments_lexer": "ipython3",
   "version": "3.7.5"
  }
 },
 "nbformat": 4,
 "nbformat_minor": 2
}
